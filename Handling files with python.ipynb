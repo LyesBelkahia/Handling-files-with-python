{
 "cells": [
  {
   "cell_type": "code",
   "execution_count": 46,
   "id": "92192a76",
   "metadata": {},
   "outputs": [
    {
     "data": {
      "text/plain": [
       "'What is Python language?                                                \\nPython is a widely used high-level, general-purpose, interpreted, dynamic programming language.Its design philosophy emphasizes code readability, and its syntax allows programmers to express concepts in fewer lines of code than possible in \\nlanguages such as C++ or Java. \\nPython supports multiple programming paradigms, including object-oriented, imperative and functional programming or procedural styles. It features a dynamic type system and automatic memory management and has a large and comprehensive standard library.The best way we learn anything is by practice and exercise questions. We  have started this section for those (beginner to intermediate) who are familiar with Python.'"
      ]
     },
     "execution_count": 46,
     "metadata": {},
     "output_type": "execute_result"
    }
   ],
   "source": [
    "f = open(\"/Users/lyesbelkahia/Downloads/python.txt\", 'r')\n",
    "f.read()\n"
   ]
  },
  {
   "cell_type": "code",
   "execution_count": 32,
   "id": "09c85e33",
   "metadata": {},
   "outputs": [
    {
     "name": "stdout",
     "output_type": "stream",
     "text": [
      "2\n",
      "What is Python language?                                                \n",
      "\n",
      "Python is a widely used high-level, general-purpose, interpreted, dynamic programming language.Its design philosophy emphasizes code readability, and its syntax allows programmers to express concepts in fewer lines of code than possible in \n",
      "\n"
     ]
    }
   ],
   "source": [
    "l=int(input())\n",
    "def read_firstnlines(p, n):\n",
    "        from itertools import islice\n",
    "        with open(p) as f:\n",
    "                for line in islice(f, n):\n",
    "                        print(line)\n",
    "file_read_from_head('/Users/lyesbelkahia/Downloads/python.txt',l)"
   ]
  },
  {
   "cell_type": "code",
   "execution_count": 33,
   "id": "f1fbd317",
   "metadata": {},
   "outputs": [
    {
     "name": "stdout",
     "output_type": "stream",
     "text": [
      "1\n",
      "Python supports multiple programming paradigms, including object-oriented, imperative and functional programming or procedural styles. It features a dynamic type system and automatic memory management and has a large and comprehensive standard library.The best way we learn anything is by practice and exercise questions. We  have started this section for those (beginner to intermediate) who are familiar with Python.\n"
     ]
    }
   ],
   "source": [
    "l=int(input())\n",
    "def read_lastnlines(fname,n):\n",
    "    with open('/Users/lyesbelkahia/Downloads/python.txt') as f:\n",
    "        for line in (f.readlines() [-n:]):\n",
    "            print(line)\n",
    "\n",
    "read_lastnlines('/Users/lyesbelkahia/Downloads/python.txt',l)"
   ]
  },
  {
   "cell_type": "code",
   "execution_count": 67,
   "id": "c5e6b565",
   "metadata": {},
   "outputs": [
    {
     "name": "stdout",
     "output_type": "stream",
     "text": [
      "8\n"
     ]
    }
   ],
   "source": [
    "a=open('/Users/lyesbelkahia/Downloads/test.txt', 'r')\n",
    "l=a.read()\n",
    "a.close()\n",
    "for i in l:\n",
    "    l_split=l.split(\" \")\n",
    "print(len(l_split))"
   ]
  },
  {
   "cell_type": "code",
   "execution_count": 69,
   "id": "16b63140",
   "metadata": {},
   "outputs": [],
   "source": []
  },
  {
   "cell_type": "code",
   "execution_count": null,
   "id": "92682ad0",
   "metadata": {},
   "outputs": [],
   "source": []
  }
 ],
 "metadata": {
  "kernelspec": {
   "display_name": "Python 3 (ipykernel)",
   "language": "python",
   "name": "python3"
  },
  "language_info": {
   "codemirror_mode": {
    "name": "ipython",
    "version": 3
   },
   "file_extension": ".py",
   "mimetype": "text/x-python",
   "name": "python",
   "nbconvert_exporter": "python",
   "pygments_lexer": "ipython3",
   "version": "3.9.7"
  }
 },
 "nbformat": 4,
 "nbformat_minor": 5
}
